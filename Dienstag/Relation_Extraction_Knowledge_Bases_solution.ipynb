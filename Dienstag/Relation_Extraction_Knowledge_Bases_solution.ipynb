{
 "cells": [
  {
   "cell_type": "markdown",
   "metadata": {
    "slideshow": {
     "slide_type": "slide"
    }
   },
   "source": [
    "# Relation Extraction"
   ]
  },
  {
   "cell_type": "markdown",
   "metadata": {
    "slideshow": {
     "slide_type": "subslide"
    }
   },
   "source": [
    "### Grundidee\n",
    "\n",
    "\n",
    "![relation extraction](Relation_Extraction.png)\n",
    "\n",
    "[Source](https://courses.cs.washington.edu/courses/cse517/13wi/slides/cse517wi13-RelationExtraction.pdf)"
   ]
  },
  {
   "cell_type": "markdown",
   "metadata": {
    "slideshow": {
     "slide_type": "subslide"
    }
   },
   "source": [
    "aufbauend auf den Entitäten, die man mit NER erkannt hat, versucht man nun Verlinkungen zwischen diesen zu extrahieren\n",
    "\n",
    "NER => Barack Obama, Michelle Obama\n",
    "\n",
    "Relation Extraction => Barack Obama ist mit Michelle Obama verheiratet"
   ]
  },
  {
   "cell_type": "markdown",
   "metadata": {
    "slideshow": {
     "slide_type": "subslide"
    }
   },
   "source": [
    "### Relation Types\n",
    "\n",
    "- ROLE: stellt Beziehung zwischen Person und Organisation oder geopolitischer Entität dar: Mitglied, Besitzer, Bürger, Kunde\n",
    "\n",
    "- PART: verallgemeinert verschiedene Untertypen: subsidiär, physischer Teil, Mitglieder einer Menge\n",
    "\n",
    "- AT: bezeichnet feste und vorübergende geographische Untertypen: befindet sich in, ansässig in, wohnhaft\n",
    "\n",
    "- SOCIAL: vertritt soziale Beziehungen zwischen Untertypen von Personen: Eltern, Geschwister, Ehemann/frau, Großeltern, Kollege"
   ]
  },
  {
   "cell_type": "markdown",
   "metadata": {
    "slideshow": {
     "slide_type": "subslide"
    }
   },
   "source": [
    "### Beispiel\n",
    "\n",
    "CHICAGO (AP) — Citing high fuel prices, United Airlines said Friday it has increased fares by $6 per round trip on flights to some cities also served by lower-cost carriers. American Airlines, a unit of AMR, immediately matched the move, spokesman Tim Wagner said. United, a unit of UAL, said the increase took effect Thursday night and applies to most routes where it competes against discount carriers, such as Chicago to Dallas and Atlanta and Denver to San Francisco, Los Angeles and New York."
   ]
  },
  {
   "cell_type": "markdown",
   "metadata": {
    "slideshow": {
     "slide_type": "subslide"
    }
   },
   "source": [
    "### Antwort\n",
    "\n",
    "CHICAGO (AP) — Citing high fuel prices, United Airlines said Friday it has increased fares by $6 per round trip on flights to some cities also served by lower-cost carriers. <span style=\"color:red\"> American Airlines </span>, a <span style=\"color:green\">unit of </span> <span style=\"color:blue\">AMR</span>, immediately matched the move, <span style=\"color:green\">spokesman </span> <span style=\"color:red\"> Tim Wagner </span> said. <span style=\"color:red\">United</span>, a <span style=\"color:green\">unit of  </span> <span style=\"color:blue\"> UAL </span>, said the increase took effect Thursday night and applies to most routes where it competes against discount carriers, such as Chicago to Dallas and Atlanta and Denver to San Francisco, Los Angeles and New York."
   ]
  },
  {
   "cell_type": "markdown",
   "metadata": {
    "slideshow": {
     "slide_type": "subslide"
    }
   },
   "source": [
    "| Subject        | Relation           | Object  |\n",
    "| :-------------: |:-------------:| :-----:|\n",
    "| <span style=\"color:red\"> American Airlines </span>      | <span style=\"color:green\">subsidiary</span> | <span style=\"color:blue\">AMR</span> |\n",
    "| <span style=\"color:red\"> Tim Wagner </span>      | <span style=\"color:green\">employee </span>     |   <span style=\"color:blue\"> American Airlines </span> |\n",
    "| <span style=\"color:red\">United</span> |   <span style=\"color:green\">subsidiary</span> | <span style=\"color:blue\"> UAL </span>\n"
   ]
  },
  {
   "cell_type": "markdown",
   "metadata": {
    "slideshow": {
     "slide_type": "subslide"
    }
   },
   "source": [
    "### Methoden für Relation Extraction\n",
    "\n",
    "1) Händische Schema\n",
    "\n",
    "2) Bootstrapping Methoden:\n",
    "- man hat ein paar schon definierte Relationstupel und die Relation\n",
    "- sammelt Sätze, die diese Relation abbilden\n",
    "- extrapoliert von diesen Sätzen weiter\n",
    "\n",
    "3) Supervised methods:\n",
    "- Annotierte Textdaten, d.h. Sätzen inkl. extrahierten Relationen\n",
    "- Trainings eines Modells auf Basis dieser Daten\n",
    "\n",
    "4) Unsupervised methods"
   ]
  },
  {
   "cell_type": "code",
   "execution_count": 100,
   "metadata": {
    "slideshow": {
     "slide_type": "subslide"
    }
   },
   "outputs": [],
   "source": [
    "# handwritten rules to extract relations from text\n",
    "from nltk import tokenize\n",
    "from collections import defaultdict"
   ]
  },
  {
   "cell_type": "code",
   "execution_count": 101,
   "metadata": {
    "slideshow": {
     "slide_type": "subslide"
    }
   },
   "outputs": [],
   "source": [
    "# tokenize and tag the sentences with pos_tags\n",
    "def ie_preprocess(document):\n",
    "    sentences = nltk.sent_tokenize(document)\n",
    "    sentences = [nltk.word_tokenize(sent) for sent in sentences]\n",
    "    sentences = [nltk.pos_tag(sent) for sent in sentences]\n",
    "    return sentences"
   ]
  },
  {
   "cell_type": "code",
   "execution_count": 102,
   "metadata": {},
   "outputs": [],
   "source": [
    "def extract_named_entities(text):\n",
    "    extracted_NEs = defaultdict(list)\n",
    "    for sentence in tagged_text:\n",
    "        for chunk in nltk.ne_chunk(sentence):\n",
    "            if hasattr(chunk, 'label'):\n",
    "                key = ' '.join(c[0] for c in chunk)\n",
    "                value = chunk.label()\n",
    "                extracted_NEs[key] = value\n",
    "    return extracted_NEs"
   ]
  },
  {
   "cell_type": "code",
   "execution_count": 108,
   "metadata": {},
   "outputs": [
    {
     "name": "stdout",
     "output_type": "stream",
     "text": [
      "defaultdict(<class 'list'>, {'Munich': 'GPE', 'Bavaria': 'GPE', 'Germany': 'GPE', 'Bayerische Motoren Werke': 'ORGANIZATION', 'BMW': 'ORGANIZATION', 'Oktoberfest': 'ORGANIZATION'})\n"
     ]
    }
   ],
   "source": [
    "text = \"Welcome to the wonderful town of Munich. Munich is the capital of Bavaria. Bavaria is part of Germany. The Bayerische Motoren Werke (BMW) was founded in Munich. The Oktoberfest takes place in Munich every year in October.\"\n",
    "\n",
    "# tokenize and pos_tag the text\n",
    "tagged_text = ie_preprocess(text)\n",
    "\n",
    "# extract named entities from tagged text\n",
    "extracted_nes = extract_named_entities(tagged_text)\n"
   ]
  },
  {
   "cell_type": "code",
   "execution_count": 164,
   "metadata": {},
   "outputs": [],
   "source": [
    "# extract the phrases containing named entities\n",
    "# e.g. Munich is capital of Bavaria\n",
    "# consider extracted named entities \n",
    "# as well as the POS-tags of the words between the NEs\n",
    "# result should like: [GPE:Munich] is capital of [GPE:Bavaria]\n",
    "def extract_phrases(ne_sentences, relations, nes):\n",
    "    relations_extracted = []\n",
    "    for sentence in ne_sentences:\n",
    "        phrase = \"\"\n",
    "        start_found = False\n",
    "        end_found = False\n",
    "        for word in sentence:\n",
    "            if word[0] in nes.keys():\n",
    "                if not start_found: \n",
    "                    start_found = True\n",
    "                else:\n",
    "                    end_found = True\n",
    "                phrase += \"[\" + nes[word[0]] + \":\" + word[0] + \"]\" + \" \"\n",
    "            elif word[1] in [\"VBN\", \"VBZ\", \"NN\", \"NNP\"]:\n",
    "                if start_found and not end_found:\n",
    "                    phrase += word[0] + \" \"\n",
    "            elif word[1] == \"IN\":\n",
    "                if start_found and not end_found:\n",
    "                    phrase += word[0] + \" \"\n",
    "        if start_found and end_found:\n",
    "            relations_extracted.append(phrase)\n",
    "    return relations_extracted\n",
    "                \n",
    "\n",
    "ex_phrases = extract_phrases(tagged_text, relations, extracted_nes)"
   ]
  },
  {
   "cell_type": "code",
   "execution_count": 163,
   "metadata": {},
   "outputs": [
    {
     "name": "stdout",
     "output_type": "stream",
     "text": [
      "[GPE:Munich]PART[GPE:Bavaria]\n",
      "[GPE:Bavaria]PART[GPE:Germany]\n",
      "[ORGANIZATION:BMW]IN[GPE:Munich]\n",
      "[ORGANIZATION:Oktoberfest]IN[GPE:Munich]\n"
     ]
    }
   ],
   "source": [
    "# replace the relation in the extracted phrases by its pattern and print the result\n",
    "# consider a regex expression\n",
    "patterns = {'PART': ['is capital of', 'is part of'], 'IN': ['founded in', 'takes place in']}\n",
    "\n",
    "import re\n",
    "for phrase in ex_phrases:\n",
    "    for pattern_name, examples in patterns.items():\n",
    "        w = re.match('(\\[.*\\])(.+)(\\[.*\\])', phrase)\n",
    "        if w.group(2).strip() in examples:\n",
    "             print(w.group(1) + pattern_name + w.group(3))"
   ]
  },
  {
   "cell_type": "code",
   "execution_count": 3,
   "metadata": {
    "slideshow": {
     "slide_type": "subslide"
    }
   },
   "outputs": [
    {
     "name": "stdout",
     "output_type": "stream",
     "text": [
      "[ORG: 'WHYY'] 'in' [LOC: 'Philadelphia']\n",
      "[ORG: 'McGlashan &AMP; Sarrail'] 'firm in' [LOC: 'San Mateo']\n",
      "[ORG: 'Freedom Forum'] 'in' [LOC: 'Arlington']\n",
      "[ORG: 'Brookings Institution'] ', the research group in' [LOC: 'Washington']\n",
      "[ORG: 'Idealab'] ', a self-described business incubator based in' [LOC: 'Los Angeles']\n",
      "[ORG: 'Open Text'] ', based in' [LOC: 'Waterloo']\n",
      "[ORG: 'WGBH'] 'in' [LOC: 'Boston']\n",
      "[ORG: 'Bastille Opera'] 'in' [LOC: 'Paris']\n",
      "[ORG: 'Omnicom'] 'in' [LOC: 'New York']\n",
      "[ORG: 'DDB Needham'] 'in' [LOC: 'New York']\n",
      "[ORG: 'Kaplan Thaler Group'] 'in' [LOC: 'New York']\n",
      "[ORG: 'BBDO South'] 'in' [LOC: 'Atlanta']\n",
      "[ORG: 'Georgia-Pacific'] 'in' [LOC: 'Atlanta']\n"
     ]
    }
   ],
   "source": [
    "# ready-built function from nltk\n",
    "\n",
    "import nltk\n",
    "import re\n",
    "\n",
    "IN = re.compile(r'.*\\bin\\b(?!\\b.+ing)')\n",
    "for doc in nltk.corpus.ieer.parsed_docs('NYT_19980315'):\n",
    "    for rel in nltk.sem.extract_rels('ORG', 'LOC', doc, corpus='ieer', pattern = IN):\n",
    "        print(nltk.sem.rtuple(rel))"
   ]
  },
  {
   "cell_type": "markdown",
   "metadata": {
    "slideshow": {
     "slide_type": "subslide"
    }
   },
   "source": [
    "### Von Relations-Tabellen zu Knowledge Bases\n",
    "\n",
    "![relation graph](Relational_Graph.png)"
   ]
  },
  {
   "cell_type": "markdown",
   "metadata": {
    "slideshow": {
     "slide_type": "notes"
    }
   },
   "source": [
    "Ziel der ganzen NLP-Pipeline: aus unstrukturierten Daten strukturierte Daten zu bekommen\n",
    "Wir wollen Wissen aufbauen oder anders gesagt eine Knowledge Base\n"
   ]
  }
 ],
 "metadata": {
  "celltoolbar": "Slideshow",
  "kernelspec": {
   "display_name": "Python 3",
   "language": "python",
   "name": "python3"
  },
  "language_info": {
   "codemirror_mode": {
    "name": "ipython",
    "version": 3
   },
   "file_extension": ".py",
   "mimetype": "text/x-python",
   "name": "python",
   "nbconvert_exporter": "python",
   "pygments_lexer": "ipython3",
   "version": "3.7.1"
  }
 },
 "nbformat": 4,
 "nbformat_minor": 2
}
