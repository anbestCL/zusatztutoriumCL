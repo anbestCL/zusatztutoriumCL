{
 "cells": [
  {
   "cell_type": "markdown",
   "metadata": {},
   "source": [
    "Hier die wichtigsten Befehle:\n",
    "![git summary](git_summary.png)"
   ]
  },
  {
   "cell_type": "markdown",
   "metadata": {},
   "source": [
    "# Warum UNIX?\n",
    "\n",
    "# Was ist anders zu Windows?\n",
    "\n",
    "# Was ist ein Terminal?\n",
    "was mache ich im Terminal\n",
    "\n",
    "# Navigation\n",
    "Baumstruktur\n",
    "Shortcuts: ., .., ~, backslash, >>\n",
    "\n",
    "# Dateibearbeitung\n",
    "datei erstellen\n",
    "datei bearbeiten\n",
    "datei verschieben\n",
    "datei umbennen\n",
    "datei löschen\n",
    "\n",
    "# Programminstallation\n",
    "was macht sudo?\n",
    "mac vs. linux (brew vs apt-get)\n",
    "Umgebungsvariablen\n",
    "\n",
    "\n",
    "\n",
    "\n",
    "\n",
    "\n",
    "\n",
    "\n",
    "## Bash-Konsole\n",
    "\n",
    "## Installieren von Programmen\n",
    "\n",
    "- Zur Installation von Programmen, die Apple nicht mitliefert, empfiehlt sich den Paketmanager [Homebrew](https://brew.sh/index_de)\n"
   ]
  },
  {
   "cell_type": "markdown",
   "metadata": {},
   "source": [
    "# Warum Unix?\n",
    "\n",
    "- frei und open source -> wird in der Wissenschaft gerne gesehen\n",
    "- vorinstallierte Programme, die besonders für Computerlinguisten interessant sind\n",
    "- inviduell anpassbar\n",
    "- universeller\n",
    "- unterstützt nativ UTF-8"
   ]
  },
  {
   "cell_type": "markdown",
   "metadata": {},
   "source": [
    "# Was ist ein Terminal?\n",
    "\n",
    "- text-basiertes Interface, um dem Computer Befehle zu erteilen\n",
    "The shell is the program which actually processes commands and returns output. Most shells also manage foreground and background processes, command history and command line editing. These features (and many more) are standard in bash, the most common shell in modern linux systems.\n",
    "\n",
    "A terminal refers to a wrapper program which runs a shell. Decades ago, this was a physical device consisting of little more than a monitor and keyboard. As unix/linux systems added better multiprocessing and windowing systems, this terminal concept was abstracted into software. Now you have programs such as Gnome Terminal which launches a window in a Gnome windowing environment which will run a shell into which you can enter commands.\n",
    "\n",
    "The console is a special sort of terminal. Historically, the console was a single keyboard and monitor plugged into a dedicated serial console port on a computer used for direct communication at a low level with the operating system. Modern linux systems provide virtual consoles. These are accessed through key combinations (e.g. Alt+F1 or Ctrl+Alt+F1; the function key numbers different consoles) which are handled at low levels of the linux operating system -- this means that there is no special service which needs to be installed and configured to run. Interacting with the console is also done using a shell program\n",
    "\n",
    "Die Bash ist eine Art der Shell, es gibt weitere, z.B. Zsh\n",
    "\n"
   ]
  },
  {
   "cell_type": "markdown",
   "metadata": {},
   "source": [
    "# Navigation\n",
    "\n",
    "![Baumstruktur](Mac_Linux_Windows.png)"
   ]
  },
  {
   "cell_type": "markdown",
   "metadata": {},
   "source": [
    "# Wichtigste Befehle\n",
    "\n",
    "man - manual page of commands\n",
    "pwd - aktueller Dateipfad\n",
    "ls - list all files of directory\n",
    "cd - change directory\n",
    "- .\n",
    "- ..\n",
    "- ~\n",
    "- *\n",
    "touch - erstellt Datei, ändert Time Stamp\n",
    "cat - gibt Inhalt einer Datei zurück\n",
    "grep - innerhalb der Datei nach regulären Ausdrücken suchen\n",
    "head/tail - einen Teil der Datei ausgeben\n",
    "less - durch Datei scrollen\n",
    "\n",
    "cp - copy file or directory\n",
    "mv - move\n",
    "rm - remove\n",
    "find - sucht Datei\n",
    "file - gibt Informationen zur Datei zurück\n",
    "mkdir - make directory\n",
    "rmdir - remove directory"
   ]
  },
  {
   "cell_type": "markdown",
   "metadata": {},
   "source": [
    "Notes: \n",
    "datei erstellen\n",
    "datei bearbeiten\n",
    "datei verschieben\n",
    "datei umbennen\n",
    "datei löschen"
   ]
  },
  {
   "cell_type": "markdown",
   "metadata": {},
   "source": [
    "# Prozesse\n",
    "\n",
    "ps - aktuell laufende Programme\n",
    "top - aktuell laufende Prozesse\n",
    "kill [PID] - beendet den Prozess mit der PID"
   ]
  },
  {
   "cell_type": "markdown",
   "metadata": {},
   "source": [
    "# Programminstallation\n",
    "\n",
    "sudo: führt Programm mit root-Zugriff (Admin, höhere Rechte) aus\n",
    "Achtung! graphische Programme\n",
    "\n",
    "Tabelle Linux/Mac\n",
    "sudo apt-get htop \n",
    "brew install htop\n",
    "- Zur Installation von Programmen, die Apple nicht mitliefert, empfiehlt sich den Paketmanager [Homebrew](https://brew.sh/index_de)\n",
    "\n",
    "\n",
    "\n",
    "which [program] - gibt Dateipfad eines Programms zurück"
   ]
  },
  {
   "cell_type": "markdown",
   "metadata": {},
   "source": [
    "# Umgebungsvariablen\n",
    "\n",
    "Terminal verwaltet Umgebungsvariablen, z.B. $PATH, $HOME, und erleichtert damit dem Nutzer die Eingabe von Programmbefehlen:\n",
    "/Library/Frameworks/Python/3.7 -> python3\n",
    "in einer ~/.bashrc Datei ist mithilfe von Umgebungsvariablen die Information gespeichert, wo das Terminal nach dem Programm mit dem Namen \"python3\" suchen muss"
   ]
  },
  {
   "cell_type": "markdown",
   "metadata": {},
   "source": [
    "# Pip-Installation\n",
    "\n",
    "pip wird mitgeliefert\n",
    "ähnlich zu apt\n",
    "verbindet sich mit Server und läd Pakete für Python herunter\n",
    "\n",
    "auch beliebt: Paketmanager anaconda -> Link für mehr Infos\n",
    "\n",
    "pip install --user numpy scipy matplotlib ipython jupyter pandas"
   ]
  }
 ],
 "metadata": {
  "kernelspec": {
   "display_name": "Python 3",
   "language": "python",
   "name": "python3"
  },
  "language_info": {
   "codemirror_mode": {
    "name": "ipython",
    "version": 3
   },
   "file_extension": ".py",
   "mimetype": "text/x-python",
   "name": "python",
   "nbconvert_exporter": "python",
   "pygments_lexer": "ipython3",
   "version": "3.7.1"
  }
 },
 "nbformat": 4,
 "nbformat_minor": 2
}
