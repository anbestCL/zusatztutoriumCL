{
 "cells": [
  {
   "cell_type": "markdown",
   "metadata": {
    "slideshow": {
     "slide_type": "slide"
    }
   },
   "source": [
    "# Einführung zu Python"
   ]
  },
  {
   "cell_type": "markdown",
   "metadata": {
    "slideshow": {
     "slide_type": "subslide"
    }
   },
   "source": [
    "Dieses Tutorial gibt ein kurze Einführung zu Python und zeigt die grundlegende Funktionsweise beliebter Libraries, die in NLP benutzt werden.\n",
    "[Quelle](https://www.dbs.ifi.lmu.de/cms/studium_lehre/lehre_master/ml19/index.html)"
   ]
  },
  {
   "cell_type": "markdown",
   "metadata": {
    "slideshow": {
     "slide_type": "subslide"
    }
   },
   "source": [
    "Zur Benutzung von Python Notebooks müsst ihr die Library <strong><i>jupyter</i></strong> installieren. Zum Starten eines Notebooks gebt ihr <strong><i>jupyter-notebook</i></strong> in der Kommandozeile ein.\n",
    "\n",
    "Dieses Tutorial benutzt außerdem die Libraries <strong><i>numpy</i></strong> und <strong><i>matplotlib</i></strong>.\n",
    "\n",
    "Bitte installiert die nötigen Libraries mit diesem Befehl:\n",
    "\n",
    "> pip3 install --user numpy matplotlib jupyter"
   ]
  },
  {
   "cell_type": "markdown",
   "metadata": {
    "slideshow": {
     "slide_type": "slide"
    }
   },
   "source": [
    "<strong>First steps</strong>"
   ]
  },
  {
   "cell_type": "markdown",
   "metadata": {
    "slideshow": {
     "slide_type": "subslide"
    }
   },
   "source": [
    "<b>Assigning Values to Variables.</b> Create variables and assign numbers, strings, floating values to them. "
   ]
  },
  {
   "cell_type": "code",
   "execution_count": null,
   "metadata": {
    "slideshow": {
     "slide_type": "subslide"
    }
   },
   "outputs": [],
   "source": [
    "tutor1 = \"Yannick Kaiser\"\n",
    "tutor2 = \"Anna Steinberg\"\n",
    "no_studs = 15\n",
    "avg_semester = 1.35 \n",
    "\n",
    "print (tutor1)"
   ]
  },
  {
   "cell_type": "markdown",
   "metadata": {
    "slideshow": {
     "slide_type": "subslide"
    }
   },
   "source": [
    "<b>Variable types</b>\n",
    "Python has five standard data types −\n",
    "<ul>\n",
    "<li>Numbers</li>\n",
    "<li>String</li>\n",
    "<li>List</li>\n",
    "<li>Tuple</li>\n",
    "<li>Dictionary</li>\n",
    "</ul>\n",
    "\n",
    "<b>Lists.</b> Create a list which contains all numbers from 0 to 10"
   ]
  },
  {
   "cell_type": "code",
   "execution_count": null,
   "metadata": {
    "slideshow": {
     "slide_type": "subslide"
    }
   },
   "outputs": [],
   "source": [
    "l0 = [1,2,3,4,5,6,7,8,9,10]\n",
    "l0 = list(range(0,10))\n",
    "l0"
   ]
  },
  {
   "cell_type": "markdown",
   "metadata": {
    "slideshow": {
     "slide_type": "subslide"
    }
   },
   "source": [
    "<b>Loops and conditionals.</b> Using the created list, print each element of the created list if its is an odd number, by using a loop and conditionals. Try using different type of loops."
   ]
  },
  {
   "cell_type": "code",
   "execution_count": 10,
   "metadata": {
    "slideshow": {
     "slide_type": "subslide"
    }
   },
   "outputs": [
    {
     "name": "stdout",
     "output_type": "stream",
     "text": [
      "[0, 1, 2, 3, 4, 5, 6, 7, 8, 9]\n"
     ]
    }
   ],
   "source": [
    "#This is a comment\n",
    "'''\n",
    "This is a block comment\n",
    "'''\n",
    "l1 = [x for x in range(10)]\n",
    "print(l1)"
   ]
  },
  {
   "cell_type": "code",
   "execution_count": 11,
   "metadata": {
    "slideshow": {
     "slide_type": "subslide"
    }
   },
   "outputs": [
    {
     "name": "stdout",
     "output_type": "stream",
     "text": [
      "1\n",
      "3\n",
      "5\n",
      "7\n",
      "9\n"
     ]
    }
   ],
   "source": [
    "# Version with for-loop\n",
    "for e in l1:\n",
    "    if e%2 != 0:\n",
    "        print(e)"
   ]
  },
  {
   "cell_type": "code",
   "execution_count": 12,
   "metadata": {
    "slideshow": {
     "slide_type": "subslide"
    }
   },
   "outputs": [
    {
     "name": "stdout",
     "output_type": "stream",
     "text": [
      "1\n",
      "3\n",
      "5\n",
      "7\n",
      "9\n"
     ]
    }
   ],
   "source": [
    "# Version w/ while-loop\n",
    "i = 0\n",
    "while i <len(l1):\n",
    "    # if l1[i] %2 != 0:\n",
    "    #     print(l1[i])\n",
    "    if l1[i] & 1:\n",
    "        print (l1[i])\n",
    "    i+=1"
   ]
  },
  {
   "cell_type": "code",
   "execution_count": 13,
   "metadata": {
    "slideshow": {
     "slide_type": "subslide"
    }
   },
   "outputs": [
    {
     "name": "stdout",
     "output_type": "stream",
     "text": [
      "[1, 3, 5, 7, 9]\n"
     ]
    }
   ],
   "source": [
    "#Version with list comprehension\n",
    "l2 = [x for x in l1 if x%2 !=0]\n",
    "print(l2)"
   ]
  },
  {
   "cell_type": "markdown",
   "metadata": {
    "slideshow": {
     "slide_type": "subslide"
    }
   },
   "source": [
    "<b>List Comprehensions.</b> Now, generate a list which contains all numbers from 0 to $n$ which have been squared using list comprehensions."
   ]
  },
  {
   "cell_type": "code",
   "execution_count": 14,
   "metadata": {
    "slideshow": {
     "slide_type": "subslide"
    }
   },
   "outputs": [
    {
     "name": "stdout",
     "output_type": "stream",
     "text": [
      "[1, 9, 25]\n"
     ]
    }
   ],
   "source": [
    "l3 = [x for x in [x**2 for x in range(7)] if x%2 !=0]\n",
    "print(l3)"
   ]
  },
  {
   "cell_type": "markdown",
   "metadata": {
    "slideshow": {
     "slide_type": "subslide"
    }
   },
   "source": [
    "<b>Functions. </b> Write a function which takes an integer $n$. The function first creates a list of numbers from $0$ to $n$. Then, squares each number of the list. Further each of the squared numbers is tested if it is odd. All odd numbers are then appended to a new list. The function returns the list of odd (squared) numbers."
   ]
  },
  {
   "cell_type": "code",
   "execution_count": 15,
   "metadata": {
    "slideshow": {
     "slide_type": "subslide"
    }
   },
   "outputs": [
    {
     "name": "stdout",
     "output_type": "stream",
     "text": [
      "[1, 9, 25]\n"
     ]
    }
   ],
   "source": [
    "def get_odd(n):\n",
    "    return [x for x in [x**2 for x in range(n)] if x%2 !=0]\n",
    "\n",
    "print(get_odd(7))"
   ]
  },
  {
   "cell_type": "markdown",
   "metadata": {
    "slideshow": {
     "slide_type": "subslide"
    }
   },
   "source": [
    "<b>Assignments. </b> Given a list $a=['I','like','cookies']$ and another list $b=a$. Replace in the list $b$ the word $'cookies'$ with $'apples'$. Finally, print both lists ($a$ and $b$). What do you observe? What leads to the observed behavior?"
   ]
  },
  {
   "cell_type": "code",
   "execution_count": 16,
   "metadata": {
    "slideshow": {
     "slide_type": "subslide"
    }
   },
   "outputs": [
    {
     "name": "stdout",
     "output_type": "stream",
     "text": [
      "list a: ['I', 'like', 'apples']\n",
      "list b: ['I', 'like', 'apples']\n",
      "4456039816 4456039816\n"
     ]
    }
   ],
   "source": [
    "a = ['I','like','cookies']\n",
    "b = a\n",
    "\n",
    "b[2] = 'apples'\n",
    "print(\"list a: \"+str(a))\n",
    "print(\"list b: \"+str(b))\n",
    "\n",
    "print(id(a),id(b))"
   ]
  },
  {
   "cell_type": "markdown",
   "metadata": {
    "slideshow": {
     "slide_type": "subslide"
    }
   },
   "source": [
    "<b>Shallow Copy I.</b> Given a list $a=['I','like','cookies']$ and another list which takes a shallow copy of $a$, $b=a[:]$. Like in the previous assignment, replace in the list $b$ the word $'cookies'$ with $'apples'$. Finally, print both lists ($a$ and $b$). What do you observe now?"
   ]
  },
  {
   "cell_type": "code",
   "execution_count": 17,
   "metadata": {
    "slideshow": {
     "slide_type": "subslide"
    }
   },
   "outputs": [
    {
     "name": "stdout",
     "output_type": "stream",
     "text": [
      "list a3: ['I', 'like', 'cookies']\n",
      "list b3: ['I', 'like', 'apples']\n",
      "4454296520 4454273800\n",
      "4455382968 4455427464\n"
     ]
    }
   ],
   "source": [
    "a3 =  ['I','like','cookies']\n",
    "b3 = a3[:]\n",
    "b3[2] = 'apples'\n",
    "print(\"list a3: \"+str(a3))\n",
    "print(\"list b3: \"+str(b3))\n",
    "print(id(a3),id(b3))\n",
    "print(id(a3[2]),id(b3[2]))"
   ]
  },
  {
   "cell_type": "markdown",
   "metadata": {
    "slideshow": {
     "slide_type": "subslide"
    }
   },
   "source": [
    "<b>Shallow Copy II.</b> Now, we are given a list $a = ['I', 'like', ['chocolate', 'cookies']]$. Another list $b = deepcopy(a)$ takes this time a deep copy from $a$. Change now the work $'cookies'$ with $'apples'$ in $b$. Print both lists ($a$ and $b$). What do you observe now?<br/>\n",
    "<i>Hint: For deep copy. first type: from copy import deepcopy</i>"
   ]
  },
  {
   "cell_type": "code",
   "execution_count": 18,
   "metadata": {
    "slideshow": {
     "slide_type": "subslide"
    }
   },
   "outputs": [
    {
     "name": "stdout",
     "output_type": "stream",
     "text": [
      "list a4: ['I', 'like', ['chocolate', 'cookies']]\n",
      "list b4: ['I', 'like', ['chocolate', 'apples']]\n",
      "4455403144 4453642440\n"
     ]
    }
   ],
   "source": [
    "from copy import deepcopy\n",
    "\n",
    "a4 =  ['I','like',['chocolate', 'cookies']]\n",
    "b4 = deepcopy(a4)\n",
    "b4[2][1] = 'apples'\n",
    "print(\"list a4: \"+str(a4))\n",
    "print(\"list b4: \"+str(b4))\n",
    "print(id(a4[2]),id(b4[2]))"
   ]
  },
  {
   "cell_type": "markdown",
   "metadata": {
    "slideshow": {
     "slide_type": "subslide"
    }
   },
   "source": [
    "<b>Dictionaries I.</b> Create a dictionary with $n$ entries, where the  keys are enumerated from $0$ to $n-1$ and the values are their corresponding keys squared. Use list comprehensions. <br/>\n",
    "Example for expected result: $n = 7; \\{0:0, 1:1, 2:4, 3:9, 4:16, 5:25, 6:36\\}$"
   ]
  },
  {
   "cell_type": "code",
   "execution_count": null,
   "metadata": {
    "slideshow": {
     "slide_type": "subslide"
    }
   },
   "outputs": [],
   "source": [
    "d1 = {x : x**2 for x in range(7)}\n",
    "print(d1)"
   ]
  },
  {
   "cell_type": "markdown",
   "metadata": {
    "slideshow": {
     "slide_type": "subslide"
    }
   },
   "source": [
    "<b>Dictionaries II.</b> Use the dictionary from the previous assignment. Write a list comprehension to get a list of all the  keys of the  dictionary. "
   ]
  },
  {
   "cell_type": "code",
   "execution_count": null,
   "metadata": {
    "slideshow": {
     "slide_type": "subslide"
    }
   },
   "outputs": [],
   "source": [
    "#it actually corresponds to d.keys()\n",
    "dlis = [d1[x] for x in d1]\n",
    "print(dlis)"
   ]
  },
  {
   "cell_type": "markdown",
   "metadata": {
    "slideshow": {
     "slide_type": "subslide"
    }
   },
   "source": [
    "<b>Lambda functions.</b> Write a list comprehension which takes a number $n$ and returns a list with even numbers, using a lambda function."
   ]
  },
  {
   "cell_type": "code",
   "execution_count": 19,
   "metadata": {
    "slideshow": {
     "slide_type": "subslide"
    }
   },
   "outputs": [
    {
     "name": "stdout",
     "output_type": "stream",
     "text": [
      "[0, 2, 4, 6]\n"
     ]
    }
   ],
   "source": [
    "even1 = lambda x: x%2 ==0\n",
    "l7 = [x for x in range(7) if even1(x)]\n",
    "print(l7)"
   ]
  },
  {
   "cell_type": "markdown",
   "metadata": {
    "slideshow": {
     "slide_type": "subslide"
    }
   },
   "source": [
    "<b>map. </b> First, write a function which takes a length in $inch$ and returns a length in $cm$. Given a list $l$ with lengths in $inches$: $l=[4,4.5,5,5.5,6,7]$. Write a list comprehension which takes $l$ and returns a list with all values converted to $cm$ using $map()$."
   ]
  },
  {
   "cell_type": "code",
   "execution_count": 20,
   "metadata": {
    "slideshow": {
     "slide_type": "subslide"
    }
   },
   "outputs": [],
   "source": [
    "linch = [4,4.5,5,5.5,6,7]\n",
    "\n",
    "def inch_to_cm(length):\n",
    "    return length*2.54"
   ]
  },
  {
   "cell_type": "code",
   "execution_count": 23,
   "metadata": {
    "slideshow": {
     "slide_type": "subslide"
    }
   },
   "outputs": [
    {
     "name": "stdout",
     "output_type": "stream",
     "text": [
      "[10.16, 11.43, 12.7, 13.97, 15.24, 17.78]\n"
     ]
    }
   ],
   "source": [
    "lcm = list(map(inch_to_cm, linch))\n",
    "print(lcm)"
   ]
  },
  {
   "cell_type": "markdown",
   "metadata": {
    "slideshow": {
     "slide_type": "subslide"
    }
   },
   "source": [
    "<b>filter. </b> Write a list comprehension which filters the list $l$ from the assignment above by returning only sizes between $4$ and $6$ $inches$."
   ]
  },
  {
   "cell_type": "code",
   "execution_count": 24,
   "metadata": {
    "slideshow": {
     "slide_type": "subslide"
    }
   },
   "outputs": [
    {
     "name": "stdout",
     "output_type": "stream",
     "text": [
      "[4.5, 5, 5.5]\n"
     ]
    }
   ],
   "source": [
    "lrange = list(filter(lambda x: 4 < x < 6, linch))\n",
    "print(lrange)"
   ]
  },
  {
   "cell_type": "markdown",
   "metadata": {
    "slideshow": {
     "slide_type": "subslide"
    }
   },
   "source": [
    "<b>reduce. </b> Write a list comprehension which reduces the list $l$ by summing up all lenghts.<br/>\n",
    "<i>Hint: for using the reduce function, you need to import it first by: from functools import reduce</i>"
   ]
  },
  {
   "cell_type": "code",
   "execution_count": 25,
   "metadata": {
    "slideshow": {
     "slide_type": "subslide"
    }
   },
   "outputs": [
    {
     "name": "stdout",
     "output_type": "stream",
     "text": [
      "32.0\n"
     ]
    }
   ],
   "source": [
    "from functools import reduce\n",
    "lsum = reduce(lambda x,y: x+y, linch)\n",
    "print(lsum)"
   ]
  },
  {
   "cell_type": "markdown",
   "metadata": {
    "slideshow": {
     "slide_type": "subslide"
    }
   },
   "source": [
    "<b>List reverse.</b> Given the following list $a=[0,1,2,3,4,5]$. Write a function which reverses the list."
   ]
  },
  {
   "cell_type": "code",
   "execution_count": null,
   "metadata": {
    "slideshow": {
     "slide_type": "subslide"
    }
   },
   "outputs": [],
   "source": [
    "a = [0,1,2,3,4,5]\n",
    "a[::-1]"
   ]
  },
  {
   "cell_type": "markdown",
   "metadata": {
    "slideshow": {
     "slide_type": "subslide"
    }
   },
   "source": [
    "<b>Zipping of lists.</b> Given the following two lists, wher eone list represents the $x-Coordinate$ and another one the $y-Coordinate$:<br/>\n",
    "* $xcoors = [0,1,2,3,4,5]$\n",
    "* $ycoors = [6,7,8,9,10,11]$\n",
    "\n",
    "Write a function which zips the  two lists to a list of coordinate-tuples:<br/>\n",
    "* $xycoors = [(0,6),(1,7),(2,8),(3,9),(4,10),(5,11)]$"
   ]
  },
  {
   "cell_type": "code",
   "execution_count": 27,
   "metadata": {
    "slideshow": {
     "slide_type": "subslide"
    }
   },
   "outputs": [
    {
     "name": "stdout",
     "output_type": "stream",
     "text": [
      "[(0, 6), (1, 7), (2, 8), (3, 9), (4, 10), (5, 11)]\n",
      "[(0, 6), (1, 7), (2, 8), (3, 9), (4, 10), (5, 11)]\n"
     ]
    }
   ],
   "source": [
    "xcoors = [0,1,2,3,4,5] \n",
    "ycoors = [6,7,8,9,10,11]\n",
    "zcoors = [99, 98, 97, 96, 95, 94]\n",
    "\n",
    "#'manual zipping'\n",
    "def manualzip(lisa, lisb):\n",
    "    reslis = []\n",
    "    for i in range(min(len(lisa),len(lisb))):\n",
    "        reslis.append((lisa[i],lisb[i]))\n",
    "    return reslis\n",
    "\n",
    "print(manualzip(xcoors,ycoors))\n",
    "\n",
    "print(list(zip(xcoors,ycoors)))"
   ]
  },
  {
   "cell_type": "markdown",
   "metadata": {
    "slideshow": {
     "slide_type": "subslide"
    }
   },
   "source": [
    "<b>Unzipping of lists.</b> Now, we are given a list of data points where the first dimension of each data point represents the age of a person and the second dimension the amount of money spent for chocolate per month in euro:\n",
    "* $chocage = [(20,8), (33,18), (27,14),(66,23),(90,100)]$\n",
    "\n",
    "Write a function which takes the  list and separates it into two lists, one containing the ages and another one containing its corresponding amount of money spent for chocolate. The result would be e.g.:\n",
    "* $age = [20,33,27,66,90]$\n",
    "* $money\\_spent = [8,18,14,23,100]$"
   ]
  },
  {
   "cell_type": "code",
   "execution_count": 28,
   "metadata": {
    "slideshow": {
     "slide_type": "subslide"
    }
   },
   "outputs": [
    {
     "name": "stdout",
     "output_type": "stream",
     "text": [
      "[(20, 33, 27, 66, 90), (8, 18, 14, 23, 100)]\n",
      "[(20, 33, 27, 66, 90), (8, 18, 14, 23, 100)]\n"
     ]
    }
   ],
   "source": [
    "chocage = [(20,8), (33,18), (27,14), (66,23), (90,100)]\n",
    "\n",
    "#'manual unzipping'\n",
    "def manualunzip(tuplelis):\n",
    "    lisa = []\n",
    "    lisb = []\n",
    "    for e in tuplelis:\n",
    "        a, b = e\n",
    "        lisa.append(a)\n",
    "        lisb.append(b)\n",
    "    return [tuple(lisa),tuple(lisb)]\n",
    "\n",
    "print(manualunzip(chocage))\n",
    "    \n",
    "print(list(zip(*chocage)))"
   ]
  },
  {
   "cell_type": "code",
   "execution_count": 29,
   "metadata": {},
   "outputs": [],
   "source": [
    "for lis1, lis2 in zip(xcoors, ycoors):\n",
    "    lis1+lis2 "
   ]
  },
  {
   "cell_type": "markdown",
   "metadata": {
    "slideshow": {
     "slide_type": "slide"
    }
   },
   "source": [
    "<b>Object oriented programming I. </b> We deal now with object oriented programming in Python. For this purpose perform the following steps: \n",
    "* Write a $Point$ class. A $Point$ class takes and $x$ and $y$ coordinate as an argument.\n",
    "* Further this class shall have a setter method $setXY$ which takes and $x$ and $y$ coordinate and sets the attributes to the new provided values.\n",
    "* The class shall also have a getter method $getXY$ which returns the current $x$ and $y$ coordiantes of the point.\n",
    "* Write a method distance which takes another $point$ object and returns the euclidean distance between the provided point and the point itself. <i>Hint: Take import math to use math.sqrt(value) in order to compute the square root.</i>"
   ]
  },
  {
   "cell_type": "code",
   "execution_count": 32,
   "metadata": {
    "slideshow": {
     "slide_type": "subslide"
    }
   },
   "outputs": [],
   "source": [
    "import math\n",
    "\n",
    "class Point(object):\n",
    "    \n",
    "    def __init__(self, x, y):\n",
    "        #java: this.x = x;\n",
    "        self.x = x\n",
    "        self.y = y\n",
    "        \n",
    "    def setXY(self, x, y):\n",
    "        self.x = x\n",
    "        self.y = y\n",
    "        \n",
    "    def getXY(self):\n",
    "        return (self.x,self.y)\n",
    "    \n",
    "    def distance(self, otherpoint):\n",
    "        d = (self.x-otherpoint.x)**2 + (self.y-otherpoint.y)**2\n",
    "        return math.sqrt(d)"
   ]
  },
  {
   "cell_type": "markdown",
   "metadata": {
    "slideshow": {
     "slide_type": "subslide"
    }
   },
   "source": [
    "<b>Object oriented programming II.</b> In a next step, the task is to create a class $Shape$. For this purpose perform the following steps:\n",
    "* Create a class $Shape$ which takes a name and a color as parameters.\n",
    "* Define a method $area$ which just returns $0.0$.\n",
    "* Define a method $perimeter$ which just return $0.0$.\n",
    "\n",
    "Now, create a class Rectangle which inherits from $Shape$ and in which you $implement$ the $area$ and $perimeter$ methods."
   ]
  },
  {
   "cell_type": "code",
   "execution_count": 33,
   "metadata": {
    "slideshow": {
     "slide_type": "subslide"
    }
   },
   "outputs": [],
   "source": [
    "class Shape(object):  \n",
    "    def __init__(self, name, color):\n",
    "        self.name = name\n",
    "        self.color = color\n",
    "        \n",
    "    def area(self):\n",
    "        return 0.0\n",
    "    \n",
    "    def perimeter(self):\n",
    "        return 0.0"
   ]
  },
  {
   "cell_type": "code",
   "execution_count": 35,
   "metadata": {
    "slideshow": {
     "slide_type": "subslide"
    }
   },
   "outputs": [
    {
     "name": "stdout",
     "output_type": "stream",
     "text": [
      "Perimeter of rectangle r:  30\n",
      "Area of rectangle r:  50\n",
      "Colour of rectangle r: rectangle\n"
     ]
    }
   ],
   "source": [
    "class Rectangle(Shape):\n",
    "    def __init__(self, corner, width, height, color):\n",
    "        #super(...) 'equivalent':\n",
    "        Shape.__init__(self, \"rectangle\", color)\n",
    "        self.corner = corner\n",
    "        self.width = width\n",
    "        self.height = height\n",
    "    \n",
    "    def perimeter(self):\n",
    "        return self.width*2 + self.height*2\n",
    "    \n",
    "    def area(self):\n",
    "        return self.width * self.height\n",
    "    \n",
    "r = Rectangle(Point(4,4),10,5,'pink')\n",
    "print('Perimeter of rectangle r: ',r.perimeter())\n",
    "print('Area of rectangle r: ', r.area())\n",
    "print('Colour of rectangle r:', r.name)"
   ]
  },
  {
   "cell_type": "markdown",
   "metadata": {
    "slideshow": {
     "slide_type": "slide"
    }
   },
   "source": [
    "<b>Numpy I - some basic functions</b>. In this block, you will become familiar with the numpy library and some of its basic functionality. Please also consider to consult the documentation  https://docs.scipy.org/doc/numpy-dev/index.html if needed. Solve the following tasks:\n",
    "* Create an numpy array of floats containing the numbers from $1$ to $4$.\n",
    "* Create the following matrix as a numpy matrix: $M = [[1,2,3], [4,5,6]]$.\n",
    "* Get the shape of the matrix $M$.\n",
    "* Check if the value $2$ is in $M$.\n",
    "* Given the array $a = np.array([0,1,2,3,4,5,6,7,8,9], float)$. Reshape it to an $5\\times2$ matrix.\n",
    "* Transpose the previously introduced matrix $M$.\n",
    "* Flatten matrix $M$.\n",
    "* Given the array $b = np.array ([0,1,2,3], float)$. Increase the dimensionality of $b$.\n",
    "* Create and $3\\times3$ identity matrix."
   ]
  },
  {
   "cell_type": "code",
   "execution_count": 4,
   "metadata": {
    "slideshow": {
     "slide_type": "subslide"
    }
   },
   "outputs": [
    {
     "name": "stdout",
     "output_type": "stream",
     "text": [
      "[1. 2. 3. 4.] float64\n",
      "1.0\n",
      "(2, 3)\n",
      "float64\n",
      "True\n"
     ]
    }
   ],
   "source": [
    "import numpy as np\n",
    "\n",
    "#create an np array with float as type\n",
    "arr0 = np.array([1,2,3,4], float)\n",
    "arr0 = np.array([1.,2.,3.,4.])\n",
    "print(arr0, arr0.dtype)\n",
    "\n",
    "#create a 2x3 matrix using np arrays\n",
    "arr1 = np.array([[1,2,3],[4,5,6]], float)\n",
    "print(arr1[0,0])\n",
    "\n",
    "#get shape of an array\n",
    "print(arr1.shape)\n",
    "\n",
    "#getting type of array\n",
    "print(arr1.dtype)\n",
    "\n",
    "#check if a particular value is in the array\n",
    "print([1,2,3] in arr1)"
   ]
  },
  {
   "cell_type": "code",
   "execution_count": 6,
   "metadata": {
    "slideshow": {
     "slide_type": "subslide"
    }
   },
   "outputs": [
    {
     "name": "stdout",
     "output_type": "stream",
     "text": [
      "[0. 1. 2. 3. 4. 5. 6. 7. 8. 9.]\n",
      "[[0. 1.]\n",
      " [2. 3.]\n",
      " [4. 5.]\n",
      " [6. 7.]\n",
      " [8. 9.]]\n",
      "[42 42 42 42 42 42 42 42 42 42]\n",
      "[[1. 2. 3.]\n",
      " [4. 5. 6.]]\n",
      "[[1. 4.]\n",
      " [2. 5.]\n",
      " [3. 6.]]\n",
      "[1. 4. 2. 5. 3. 6.]\n"
     ]
    }
   ],
   "source": [
    "#reshape an array e.g. 1x10 to an 5x2 array\n",
    "arr2 = np.array(range(10), float)\n",
    "print(arr2)\n",
    "arr3 = arr2.reshape((5,2))\n",
    "print(arr3)\n",
    "\n",
    "#fill matrix with specific value\n",
    "arr4 = np.array(range(10))\n",
    "arr4.fill(42)\n",
    "print(arr4)\n",
    "\n",
    "#transpose an array\n",
    "arr5 = np.array([[1,2,3],[4,5,6]], float)\n",
    "arr6 = arr5.transpose()\n",
    "print(arr5)\n",
    "print(arr6)\n",
    "\n",
    "#flatten an array...\n",
    "print(arr6.flatten())"
   ]
  },
  {
   "cell_type": "code",
   "execution_count": 7,
   "metadata": {
    "slideshow": {
     "slide_type": "subslide"
    }
   },
   "outputs": [
    {
     "name": "stdout",
     "output_type": "stream",
     "text": [
      "[1. 2. 3.]\n",
      "[[1.]\n",
      " [2.]\n",
      " [3.]]\n",
      "array of ones and zeros\n",
      "[[1. 1. 1.]\n",
      " [1. 1. 1.]]\n",
      "[[0. 0. 0.]\n",
      " [0. 0. 0.]]\n",
      "[[1. 0. 0.]\n",
      " [0. 1. 0.]\n",
      " [0. 0. 1.]]\n"
     ]
    }
   ],
   "source": [
    "#increasing dimensionality of an array\n",
    "arr7 = np.array([1,2,3],float)\n",
    "print(arr7)\n",
    "print(arr7[:,np.newaxis])\n",
    "\n",
    "#array of ones and zeros\n",
    "print(\"array of ones and zeros\")\n",
    "print(np.ones((2,3),float))\n",
    "print(np.zeros((2,3),float))\n",
    "\n",
    "#getting an identity matrix\n",
    "print(np.identity(3,float))"
   ]
  },
  {
   "cell_type": "markdown",
   "metadata": {
    "slideshow": {
     "slide_type": "subslide"
    }
   },
   "source": [
    "<b>Numpy II - linear algebra and statistics. </b> This assignemtn has its focus on numpy function of the linear algebra and statistics domain. Solve the following tasks using numpy:\n",
    "* Given the following two numpy array: $a=np.array([1,2,3], float)$, $b=([4,5,6],float)$. Compute the dot product of $a$ and $b$\n",
    "* Given the following matrix $M = [[1,2,3], [4,5,6], [7,8,9]]$, compute the determinant of $M$ by using the $linalg$ package of the numpy library.\n",
    "* Compute the eigenvalues and eigenvectors of $M$\n",
    "* Compute the inverse of $M$\n",
    "* Given the numpy array $c=np.array([1,4,3,8,3,2,3], float)$, compute the mean of $c$\n",
    "* using $c$, compute the median.\n",
    "* given the following matrix $C=[[1,1], [3,4]]$, compute the covariance of $C$."
   ]
  },
  {
   "cell_type": "code",
   "execution_count": 13,
   "metadata": {
    "slideshow": {
     "slide_type": "subslide"
    }
   },
   "outputs": [
    {
     "name": "stdout",
     "output_type": "stream",
     "text": [
      "[32. 47.]\n",
      "[32. 47.]\n",
      "0.0\n",
      "[ 1.61168440e+01 -1.11684397e+00 -1.30367773e-15]\n",
      "------\n",
      "[[-0.23197069 -0.78583024  0.40824829]\n",
      " [-0.52532209 -0.08675134 -0.81649658]\n",
      " [-0.8186735   0.61232756  0.40824829]]\n"
     ]
    }
   ],
   "source": [
    "# DOT PRODUCT\n",
    "arr8 = np.array([[1,2,3],[2,3,4]],float)\n",
    "arr9 = np.array([4,5,6],float)\n",
    "print(np.dot(arr8,arr9.transpose()))\n",
    "print(arr8@arr9)\n",
    "\n",
    "# DETERMINANT\n",
    "arr10 = np.array([[1,2,3],[4,5,6],[7,8,9]],float)\n",
    "print(np.linalg.det(arr10))\n",
    "\n",
    "# COMPUTE EIGENVALUES AND EIGENVECTORS\n",
    "eigenvals, eigenvecs = np.linalg.eig(arr10)\n",
    "print(eigenvals)\n",
    "print(\"------\")\n",
    "print(eigenvecs)"
   ]
  },
  {
   "cell_type": "code",
   "execution_count": null,
   "metadata": {
    "slideshow": {
     "slide_type": "subslide"
    }
   },
   "outputs": [],
   "source": [
    "# COMPUTE INVERSE\n",
    "print(np.linalg.inv(arr10+100))"
   ]
  },
  {
   "cell_type": "markdown",
   "metadata": {
    "slideshow": {
     "slide_type": "subslide"
    }
   },
   "source": [
    "arr10 ist eine singuläre Matrix\n",
    "singuläre Matrizen sind Matrizen, die keine Inverse besitzen\n",
    "es gibt mehrere Kriterien für die Invertierbarkeit einer Matrix, u.a. müssen die Spalten- und die Zeilenvektoren linear unabhängig sein\n",
    "\n",
    "$\\vec{v}_1=\\begin{pmatrix} 1 \\\\ 4 \\\\ 7 \\end{pmatrix} + \\begin{pmatrix} 1 \\\\ 1 \\\\ 1 \\end{pmatrix} = \\begin{pmatrix} 2 \\\\ 5 \\\\ 8 \\end{pmatrix} = \\vec{v}_2$"
   ]
  },
  {
   "cell_type": "code",
   "execution_count": 14,
   "metadata": {
    "slideshow": {
     "slide_type": "subslide"
    }
   },
   "outputs": [
    {
     "name": "stdout",
     "output_type": "stream",
     "text": [
      "mean:  4.285714285714286\n",
      "median:  3.0\n",
      "cov:  [[0.  0. ]\n",
      " [0.  0.5]]\n"
     ]
    }
   ],
   "source": [
    "# COMPUTE MEAN AND MEDIAN\n",
    "arr11 = np.array([1,4,3,8,9,2,3],float)\n",
    "print(\"mean: \",np.mean(arr11))\n",
    "print(\"median: \",np.median(arr11))\n",
    "\n",
    "# COMPUTE COVARIANCE\n",
    "arr12 = np.array([[1,1],[3,4]],float)\n",
    "print('cov: ',np.cov(arr12))"
   ]
  },
  {
   "cell_type": "markdown",
   "metadata": {
    "slideshow": {
     "slide_type": "slide"
    }
   },
   "source": [
    "<b>Matplotlib - Plotting figures in Python. </b> In this assignment we are finally going to become familiar with the plotting library of Python. For this we solve the following tasks below. Please consider to consult the documentation if needed: https://matplotlib.org/contents.html.\n",
    "\n",
    "* Given a list of data points : $dpts=[(3,3),(4,5),(4.5,6),(9,7)]$. Plot the function using $plt.plot(xcoors, ycoors)$\n",
    "* You are given two tiny clusters $c_1 = [(1,2),(3,1),(0,1),(2,2)]$ and $c_2=[(12,9),(8,10),(11,11), (14,13)]$. Plot them in a scatter plot using $plt.scatter(xcoors, ycoors)$, where $c_1$ and $c_2$ have different colors. The $x-axis$ represents the time spent at a parking lot in hours, and the $y-axis$ represents the money spent in euro. Create axis labels for your figure.\n",
    "* Take the two clusters $c_1$ and $c_2$ together and compute their pairwise distances, storing them in a matrix. Plot the resulting matrix as a heatmap using $plt.imshow(my\\_matrix, cmap='coolwarm')$."
   ]
  },
  {
   "cell_type": "code",
   "execution_count": 18,
   "metadata": {
    "slideshow": {
     "slide_type": "subslide"
    }
   },
   "outputs": [
    {
     "name": "stdout",
     "output_type": "stream",
     "text": [
      "[3. 5. 6. 7.]\n"
     ]
    },
    {
     "data": {
      "image/png": "[encoded data removed]",
      "text/plain": [
       "<Figure size 432x288 with 1 Axes>"
      ]
     },
     "metadata": {
      "needs_background": "light"
     },
     "output_type": "display_data"
    }
   ],
   "source": [
    "import matplotlib.pyplot as plt\n",
    "%matplotlib inline\n",
    "\n",
    "#1\n",
    "dpts = np.asarray([(3,3),(4,5),(4.5,6),(1,7)])\n",
    "#access second column (y-coordinates)\n",
    "print(dpts[:,1])\n",
    "\n",
    "plt.figure()\n",
    "plt.plot(dpts[:,0],dpts[:,1])\n",
    "plt.ylabel('y-axis')\n",
    "plt.xlabel('x-axis')\n",
    "plt.show()"
   ]
  },
  {
   "cell_type": "code",
   "execution_count": 19,
   "metadata": {
    "slideshow": {
     "slide_type": "subslide"
    }
   },
   "outputs": [
    {
     "data": {
      "image/png": "[encoded data removed]",
      "text/plain": [
       "<Figure size 432x288 with 1 Axes>"
      ]
     },
     "metadata": {
      "needs_background": "light"
     },
     "output_type": "display_data"
    }
   ],
   "source": [
    "#2 scatter plot\n",
    "c1 = np.array([(1,2),(3,1),(0,1),(2,2)])\n",
    "c2 = np.array([(12,9),(8,10),(11,11),(14,13)])\n",
    "\n",
    "plt.figure()\n",
    "plt.scatter(c1[:,0],c1[:,1], color='r')\n",
    "plt.scatter(c2[:,0],c2[:,1], color='b')\n",
    "plt.xlabel('time spent at parking lot [h]')\n",
    "plt.ylabel('money spent [€]')\n",
    "plt.title(\"Fancy studies\")\n",
    "plt.show()"
   ]
  },
  {
   "cell_type": "code",
   "execution_count": 20,
   "metadata": {
    "slideshow": {
     "slide_type": "subslide"
    }
   },
   "outputs": [
    {
     "name": "stdout",
     "output_type": "stream",
     "text": [
      "[13.038404810405298, 10.63014581273465, 13.45362404707371, 17.029386365926403]\n",
      "[12.041594578792296, 10.295630140987, 12.806248474865697, 16.278820596099706]\n",
      "[14.422205101855956, 12.041594578792296, 14.866068747318506, 18.439088914585774]\n",
      "[12.206555615733702, 10.0, 12.727922061357855, 16.278820596099706]\n"
     ]
    },
    {
     "data": {
      "image/png": "[encoded data removed]",
      "text/plain": [
       "<Figure size 432x288 with 2 Axes>"
      ]
     },
     "metadata": {
      "needs_background": "light"
     },
     "output_type": "display_data"
    }
   ],
   "source": [
    "#3 now for something completely different: heatmap...\n",
    "import scipy\n",
    "from scipy.spatial import distance\n",
    "\n",
    "distmx = []\n",
    "for e in c1:\n",
    "    newrow = []\n",
    "    for f in c2:\n",
    "        d = distance.euclidean(e,f)\n",
    "        newrow.append(d)\n",
    "    distmx.append(newrow)\n",
    "    \n",
    "for e in distmx:\n",
    "    print(e)\n",
    "    \n",
    "plt.imshow(distmx, cmap='coolwarm', interpolation='nearest')\n",
    "plt.colorbar()\n",
    "plt.show()"
   ]
  }
 ],
 "metadata": {
  "celltoolbar": "Slideshow",
  "kernelspec": {
   "display_name": "Python 3",
   "language": "python",
   "name": "python3"
  },
  "language_info": {
   "codemirror_mode": {
    "name": "ipython",
    "version": 3
   },
   "file_extension": ".py",
   "mimetype": "text/x-python",
   "name": "python",
   "nbconvert_exporter": "python",
   "pygments_lexer": "ipython3",
   "version": "3.7.1"
  }
 },
 "nbformat": 4,
 "nbformat_minor": 1
}
