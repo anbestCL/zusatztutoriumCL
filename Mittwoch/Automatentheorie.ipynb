{
 "cells": [
  {
   "cell_type": "markdown",
   "metadata": {
    "slideshow": {
     "slide_type": "slide"
    }
   },
   "source": [
    "# Endliche Automaten\n",
    "\n"
   ]
  },
  {
   "cell_type": "markdown",
   "metadata": {
    "slideshow": {
     "slide_type": "subslide"
    }
   },
   "source": [
    "![simple automaton](simple_automaton.png)"
   ]
  },
  {
   "cell_type": "markdown",
   "metadata": {
    "slideshow": {
     "slide_type": "subslide"
    }
   },
   "source": [
    "**Heute:**\n",
    "- Endliche Automaten\n",
    " - Determiniertheit\n",
    " - Vollständigkeit\n",
    "- Lexikonautomaten (?)"
   ]
  },
  {
   "cell_type": "markdown",
   "metadata": {
    "slideshow": {
     "slide_type": "subslide"
    }
   },
   "source": [
    "## Mathematische Definition\n",
    "\n",
    "Ein (nicht-deterministischer) endlicher Automat ist ein 5-Tupel $A =(Q,\\Sigma,\\Delta,s,F)$"
   ]
  },
  {
   "cell_type": "markdown",
   "metadata": {
    "slideshow": {
     "slide_type": "fragment"
    }
   },
   "source": [
    "$Q$ ist die Menge der *Zustände* des Automaten: Eine Menge von Objekten\n",
    "\n",
    "> $Q = \\{\\text{WORK,HOME,BED}\\}$ \\\n",
    "> $Q = \\{1,2,3,4\\}$ \\\n",
    "> $Q = \\{q_0,q_1,q_2,q_3\\} $"
   ]
  },
  {
   "cell_type": "markdown",
   "metadata": {
    "slideshow": {
     "slide_type": "subslide"
    }
   },
   "source": [
    "Ein (nicht-deterministischer) endlicher Automat ist ein 5-Tupel $A =(Q,\\Sigma,\\Delta,s,F)$"
   ]
  },
  {
   "cell_type": "markdown",
   "metadata": {
    "slideshow": {
     "slide_type": "-"
    }
   },
   "source": [
    "$\\Sigma$ ist das *Alphabet* des Automaten: Eine Menge von Symbolen.\n",
    "> $\\Sigma = \\{take\\_train,wake,sleep\\}$ \\\n",
    "> $\\Sigma = \\{a,b,c,d\\}$ \\\n",
    "> $\\Sigma = \\{\\text{\"der\",\"die\",\"das\"}\\}$\n",
    "\n",
    "Diese Symbole sind die möglichen Label der Übergänge im Automaten"
   ]
  },
  {
   "cell_type": "markdown",
   "metadata": {
    "slideshow": {
     "slide_type": "subslide"
    }
   },
   "source": [
    "Ein (nicht-deterministischer) endlicher Automat ist ein 5-Tupel $A =(Q,\\Sigma,\\Delta,s,F)$"
   ]
  },
  {
   "cell_type": "markdown",
   "metadata": {
    "slideshow": {
     "slide_type": "-"
    }
   },
   "source": [
    "$\\Delta$ ist die *Übergangsfunktion* des Automaten. Sie beschreibt, welche Kanten zwischen welchen Zuständen verlaufen:\n",
    "> $\\Delta = \\{(\\text{WORK},take\\_train,\\text{HOME}),(\\text{HOME},sleep,\\text{BED})\\}$ \\\n",
    "> $\\Delta = \\{(1,a,2),(2,a,3),(2,b,1),(2,c,1)\\}$"
   ]
  },
  {
   "cell_type": "markdown",
   "metadata": {
    "slideshow": {
     "slide_type": "subslide"
    }
   },
   "source": [
    "Ein (nicht-deterministischer) endlicher Automat ist ein 5-Tupel $A =(Q,\\Sigma,\\Delta,s,F)$"
   ]
  },
  {
   "cell_type": "markdown",
   "metadata": {
    "slideshow": {
     "slide_type": "-"
    }
   },
   "source": [
    "$s$ ist der *Startzustand* des Automaten: Hier beginnt die Ausführung.\n",
    "> $s = \\text{HOME}$ \\\n",
    "> $s = 1$ \\\n",
    "> $s = q_1$"
   ]
  },
  {
   "cell_type": "markdown",
   "metadata": {
    "slideshow": {
     "slide_type": "subslide"
    }
   },
   "source": [
    "Ein (nicht-deterministischer) endlicher Automat ist ein 5-Tupel $A =(Q,\\Sigma,\\Delta,s,F)$"
   ]
  },
  {
   "cell_type": "markdown",
   "metadata": {
    "slideshow": {
     "slide_type": "-"
    }
   },
   "source": [
    "$F$ ist die Menge der *Finalzustände*: Erreichen wir einen solchen Zustand, war die Reise ein Erfolg.\n",
    "> $F = \\{\\text{HOME,BED}\\}$ \\\n",
    "> $F = \\{4\\}$ \\\n",
    "> $F = \\{\\}$"
   ]
  },
  {
   "cell_type": "markdown",
   "metadata": {
    "slideshow": {
     "slide_type": "subslide"
    }
   },
   "source": [
    "![nondeterministic automaton](nondet_automaton.png)"
   ]
  },
  {
   "cell_type": "markdown",
   "metadata": {
    "slideshow": {
     "slide_type": "subslide"
    }
   },
   "source": [
    "> Aufgabe: Finde 3 Zahlenfolgen aus {0,1}, die vom obrigen Automaten akzeptiert werden\n",
    "\n",
    "> Finde 3 Zahlenfolgen aus {0,1}, die vom obrigen Automaten **nicht** akzeptiert werden"
   ]
  },
  {
   "cell_type": "markdown",
   "metadata": {
    "slideshow": {
     "slide_type": "subslide"
    }
   },
   "source": [
    " ## Python-Implementierung\n",
    " "
   ]
  },
  {
   "cell_type": "markdown",
   "metadata": {
    "slideshow": {
     "slide_type": "-"
    }
   },
   "source": [
    "Wollen Klasse **Automaton** schreiben, die einen solchen Automaten modelliert"
   ]
  },
  {
   "cell_type": "code",
   "execution_count": null,
   "metadata": {
    "slideshow": {
     "slide_type": "subslide"
    }
   },
   "outputs": [],
   "source": [
    "class Automaton():\n",
    "    def __init__(self,Q,Sigma,Delta,s,F):\n",
    "        self.Q = Q\n",
    "        self.Sigma = Sigma\n",
    "        # TODO it is not necessary, but it can help to save Delta as a dictionary instead, \n",
    "        # where the origin state is the key for a list of label-target state tuples.\n",
    "        # This would provide easy lookup!\n",
    "        self.Delta = Delta \n",
    "        self.s = s\n",
    "        self.F = F\n",
    "    \n",
    "    def run(self,w):\n",
    "        \"\"\"w is the input word for the automaton.\n",
    "            Return true, if the execution ends in a final state.\n",
    "            Return false, if that is not the case, or if no suitable edge could be found.\n",
    "        \"\"\"\n",
    "        # Hint: We ignore the case where there are multiple edges with the same label starting\n",
    "        # from the same state. For this exercise, assume there is only ever one.\n",
    "        \n",
    "        remaining_input = w\n",
    "        current_char = remaining_input[0] # You may of course delete these lines.\n",
    "        \n",
    "        return None "
   ]
  },
  {
   "cell_type": "code",
   "execution_count": null,
   "metadata": {
    "slideshow": {
     "slide_type": "subslide"
    }
   },
   "outputs": [],
   "source": [
    "Q = {0,1,2,3}; s = 0; F = {0}\n",
    "Sigma = {\"l\",\"m\",\"u\"}\n",
    "Delta = {(0,\"l\",1),(1,\"m\",2),(0,\"u\",0),(2,\"u\",3),(3,\"u\",2),(2,\"m\",1),(1,\"l\",0)}\n",
    "\n",
    "A = # TODO\n",
    "\n",
    "result1 = A.run(\"lmuuml\"); result2 = A.run(\"lmu\")\n",
    "result3 = A.run(\"lll\"); result4 = A.run(\"\")\n",
    "\n",
    "print(\"'lmulmu': Result should be True. Actual result:\",result1)\n",
    "print(\"'lmu': Result should be False. Actual result:\",result2)\n",
    "print(\"'lll': Result should be False. Actual result:\",result3)\n",
    "print(\"Empty String: Result should be True. Actual result:\",result4)"
   ]
  },
  {
   "cell_type": "code",
   "execution_count": null,
   "metadata": {
    "slideshow": {
     "slide_type": "subslide"
    }
   },
   "outputs": [],
   "source": [
    "import graphviz\n",
    "\n",
    "g = graphviz.Digraph('Automaton',filename='automaton.gv')\n",
    "\n",
    "for state in A.Q:\n",
    "    if state in A.F:\n",
    "        g.attr('node',style='bold')\n",
    "    if state == A.s:\n",
    "        g.node(str(state), label=\"-> \" + str(state))\n",
    "    else:\n",
    "        g.node(str(state))\n",
    "    g.attr('node',style='solid')\n",
    "    \n",
    "for x,label,z in A.Delta:\n",
    "    g.edge(str(x),str(z),label=\" \" + label+ \" \")\n",
    "    \n",
    "g\n",
    "\n",
    "\n"
   ]
  },
  {
   "cell_type": "markdown",
   "metadata": {
    "slideshow": {
     "slide_type": "subslide"
    }
   },
   "source": [
    "## Deterministische endliche Automaten\n",
    "\n",
    "Bislang war es erlaubt, dass ein Zustand mehrere ausgehende Kanten mit dem gleichen Label haben konnte."
   ]
  },
  {
   "cell_type": "markdown",
   "metadata": {
    "slideshow": {
     "slide_type": "fragment"
    }
   },
   "source": [
    "> **Deterministische** endliche Automaten dürfen an jedem Zustand maximal eine ausgehende Kante für jedes Zeichen im Alphabet $\\Sigma$ haben."
   ]
  },
  {
   "cell_type": "markdown",
   "metadata": {
    "slideshow": {
     "slide_type": "subslide"
    }
   },
   "source": [
    "## Vollständigkeit\n",
    "\n",
    "Bislang war es erlaubt, dass Zustände keine Ausgehende Kante eines oder mehrerer möglicher Symbole aus dem Alphabet $\\Sigma$ haben konnte."
   ]
  },
  {
   "cell_type": "markdown",
   "metadata": {
    "slideshow": {
     "slide_type": "fragment"
    }
   },
   "source": [
    "> **Vollständige** deterministische endliche Automaten müssen zusätzlich an jedem Zustand für jedes Zeichen aus dem Alphabet $\\Sigma$ eine ausgehende Kante besitzen."
   ]
  },
  {
   "cell_type": "markdown",
   "metadata": {
    "slideshow": {
     "slide_type": "subslide"
    }
   },
   "source": [
    "Dies ist einfach zu erreichen: Es kann ein sogenannter 'sink'-Zustand hinzugefügt werden, der nicht final ist, und auf den alle fehlenden Kanten gerichtet werden. Alle Eingabewörter, die vorher mangels Kanten nicht erkannt worden sind, werden weiterhin nicht erkannt, da es aus dem 'sink' kein Entkommen gibt: Alle ausgehenden Kanten aus dem 'sink'-Zustand führen zurück in den 'sink'-Zustand."
   ]
  },
  {
   "cell_type": "code",
   "execution_count": null,
   "metadata": {
    "slideshow": {
     "slide_type": "subslide"
    }
   },
   "outputs": [],
   "source": [
    "Q = {0,1,2,3,4} # 4 ist der neue 'sink'-Zustand\n",
    "Sigma = {\"l\",\"m\",\"u\"}\n",
    "Delta = {(0,\"l\",1),(0,\"m\",4),(0,\"u\",0),(1,\"m\",2),(1,\"l\",0),(1,\"u\",4),(2,\"u\",3),(2,\"m\",1),(2,\"l\",4),(3,\"u\",2),(3,\"l\",4),(3,\"m\",4),(4,\"l\",4),(4,\"m\",4),(4,\"u\",4)}\n",
    "s = 0\n",
    "F = {0}\n",
    "\n",
    "A = Automaton(Q,Sigma,Delta,s,F)\n"
   ]
  },
  {
   "cell_type": "code",
   "execution_count": null,
   "metadata": {
    "slideshow": {
     "slide_type": "subslide"
    }
   },
   "outputs": [],
   "source": [
    "g = graphviz.Digraph('Automaton',filename='automaton.gv')\n",
    "\n",
    "for state in A.Q:\n",
    "    if state in A.F:\n",
    "        g.attr('node',style='bold')\n",
    "    if state == A.s:\n",
    "        g.node(str(state), label=\"-> \" + str(state))\n",
    "    else:\n",
    "        g.node(str(state))\n",
    "    g.attr('node',style='solid')\n",
    "    \n",
    "for x,label,z in A.Delta:\n",
    "    g.edge(str(x),str(z),label=\" \" + label+ \" \")\n",
    "    \n",
    "g"
   ]
  },
  {
   "cell_type": "markdown",
   "metadata": {
    "slideshow": {
     "slide_type": "subslide"
    }
   },
   "source": [
    "## Lexikonautomaten\n",
    "\n",
    "Automaten können dazu verwendet werden, Lexika effizient abzuspeichern und zu durchsuchen.\n",
    "\n",
    "> Gegeben ein Lexikon von Wörtern, wie erhalten wir einen Automaten, der alle Wörter akzeptiert?"
   ]
  },
  {
   "cell_type": "markdown",
   "metadata": {
    "slideshow": {
     "slide_type": "subslide"
    }
   },
   "source": [
    "## Lexikon-Tries\n",
    "\n",
    "Tries sind eine einfache und platzsparende Methode, ein Lexikon in einen Automaten umzuwandeln.\n",
    "Ausgehend von einem Startzustand werden die Wörter als Zustandsfolgen angehängt.\n",
    "Bereits bestehende Präfixe werden wiederverwendet."
   ]
  },
  {
   "cell_type": "markdown",
   "metadata": {
    "slideshow": {
     "slide_type": "subslide"
    }
   },
   "source": [
    "![trie](trie.png)"
   ]
  },
  {
   "cell_type": "markdown",
   "metadata": {
    "slideshow": {
     "slide_type": "fragment"
    }
   },
   "source": [
    "*Welche Zustände werden Finalzustände?*"
   ]
  },
  {
   "cell_type": "markdown",
   "metadata": {
    "slideshow": {
     "slide_type": "subslide"
    }
   },
   "source": [
    "### Algorithmus für Lexikon-Tries\n",
    "\n",
    "```\n",
    "Given: Lexicon L\n",
    "Given: Empty Automaton A with initial state s\n",
    "---\n",
    "for each w in L do\n",
    "    wander A on the path given by w as far as possible\n",
    "    add remainder of w as a tail of states\n",
    "    make last state (full word w) final\n",
    "```"
   ]
  },
  {
   "cell_type": "markdown",
   "metadata": {
    "slideshow": {
     "slide_type": "fragment"
    }
   },
   "source": [
    "*Sonderfall: Fügen \"Da\" ein, nachdem wir schon \"Dach\" eingefügt haben*"
   ]
  },
  {
   "cell_type": "markdown",
   "metadata": {
    "slideshow": {
     "slide_type": "subslide"
    }
   },
   "source": [
    "### Lexikon vs. Trie\n",
    "\n",
    "Klassisches Lexikon:\n",
    "- Speicherbedarf wächst linear mit der Anzahl der Wörter: $O(n)$\n",
    "- Zur Suche muss über die Liste iteriert werden: $O(n)$\n",
    "\n",
    "\n"
   ]
  },
  {
   "cell_type": "markdown",
   "metadata": {
    "slideshow": {
     "slide_type": "fragment"
    }
   },
   "source": [
    "Trie:\n",
    "- Speicherbedarf wächst weniger als linear: Gemeinsame Präfixe werden nur einmal abgespeichert: $< O(n)$\n",
    "- Zur Suche muss nur der Automat abgelaufen werden. Max. so viele Schritte wie die länge des längsten Wortes: $\\approx O(1)$"
   ]
  },
  {
   "cell_type": "code",
   "execution_count": null,
   "metadata": {
    "slideshow": {
     "slide_type": "subslide"
    }
   },
   "outputs": [],
   "source": [
    "Q = {0}\n",
    "s = 0\n",
    "F = set()\n",
    "Sigma = {c for c in \"abcdefghijklmnopqrstuvwxyzäöü\"}\n",
    "Delta = set()\n",
    "\n",
    "Trie = Automaton(Q,Sigma,Delta,s,F)\n",
    "\n",
    "# TODO fill the trie according to the algorithm stated above\n",
    "lexicon = [\"Der\",\"Das\",\"Die\",\"Dosenbier\",\"Dose\",\"Dame\",\"Geist\"]\n",
    "\n",
    "# Hint: Add states with Trie.Q.add(...)\n",
    "# Hint: Add edges and final states likewise"
   ]
  },
  {
   "cell_type": "code",
   "execution_count": null,
   "metadata": {},
   "outputs": [],
   "source": [
    "g = graphviz.Digraph('Automaton',filename='automaton.gv')\n",
    "\n",
    "for state in A.Q:\n",
    "    if state in A.F:\n",
    "        g.attr('node',style='bold')\n",
    "    if state == A.s:\n",
    "        g.node(str(state), label=\"-> \" + str(state))\n",
    "    else:\n",
    "        g.node(str(state))\n",
    "    g.attr('node',style='solid')\n",
    "    \n",
    "for x,label,z in A.Delta:\n",
    "    g.edge(str(x),str(z),label=\" \" + label+ \" \")\n",
    "    \n",
    "g"
   ]
  }
 ],
 "metadata": {
  "celltoolbar": "Slideshow",
  "kernelspec": {
   "display_name": "Python 3",
   "language": "python",
   "name": "python3"
  },
  "language_info": {
   "codemirror_mode": {
    "name": "ipython",
    "version": 3
   },
   "file_extension": ".py",
   "mimetype": "text/x-python",
   "name": "python",
   "nbconvert_exporter": "python",
   "pygments_lexer": "ipython3",
   "version": "3.6.8"
  }
 },
 "nbformat": 4,
 "nbformat_minor": 2
}
